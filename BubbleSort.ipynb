{
 "cells": [
  {
   "cell_type": "code",
   "execution_count": 17,
   "id": "02f3ce34",
   "metadata": {},
   "outputs": [],
   "source": [
    "class SortingAlgorithms:\n",
    "    \n",
    "    def bubbleSort(self,arr):\n",
    "        for i in range(len(arr) - 1, 0 ,-1):\n",
    "            for j in range(i):\n",
    "                if arr[j] >arr[j+1]:\n",
    "                    arr[j], arr[j+1] = arr[j+1], arr[j]\n",
    "        return arr\n",
    "                "
   ]
  },
  {
   "cell_type": "code",
   "execution_count": 18,
   "id": "55e62170",
   "metadata": {},
   "outputs": [],
   "source": [
    "sorting = SortingAlgorithms()\n"
   ]
  },
  {
   "cell_type": "code",
   "execution_count": 19,
   "id": "e9eba7af",
   "metadata": {},
   "outputs": [
    {
     "data": {
      "text/plain": [
       "[1, 2, 4, 5, 7, 8, 10]"
      ]
     },
     "execution_count": 19,
     "metadata": {},
     "output_type": "execute_result"
    }
   ],
   "source": [
    "sorting.bubbleSort([5,1,4,7,10,8,2])"
   ]
  },
  {
   "cell_type": "code",
   "execution_count": null,
   "id": "ba6dd6d1",
   "metadata": {},
   "outputs": [],
   "source": []
  }
 ],
 "metadata": {
  "kernelspec": {
   "display_name": "Python 3",
   "language": "python",
   "name": "python3"
  },
  "language_info": {
   "codemirror_mode": {
    "name": "ipython",
    "version": 3
   },
   "file_extension": ".py",
   "mimetype": "text/x-python",
   "name": "python",
   "nbconvert_exporter": "python",
   "pygments_lexer": "ipython3",
   "version": "3.8.8"
  }
 },
 "nbformat": 4,
 "nbformat_minor": 5
}
